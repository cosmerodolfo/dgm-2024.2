{
 "cells": [
  {
   "cell_type": "markdown",
   "metadata": {},
   "source": [
    "# Extract DayNight Images\n",
    "\n",
    "Create DayNight database for model training."
   ]
  },
  {
   "cell_type": "code",
   "execution_count": 6,
   "metadata": {},
   "outputs": [],
   "source": [
    "import pandas as pd\n",
    "import matplotlib.pyplot as plt\n",
    "import seaborn as sns\n",
    "from pathlib import Path\n",
    "from tqdm import tqdm\n",
    "from PIL import Image"
   ]
  },
  {
   "cell_type": "markdown",
   "metadata": {},
   "source": [
    "## Common functions"
   ]
  },
  {
   "cell_type": "code",
   "execution_count": 7,
   "metadata": {},
   "outputs": [],
   "source": [
    "def img_size_count(img_folder, verbose=True):\n",
    "    sizes = []\n",
    "    img_folder = Path(img_folder)\n",
    "    for img_path in tqdm(list(img_folder.glob('*.jpg'))):\n",
    "        try:\n",
    "            with Image.open(img_path) as img:\n",
    "                sizes.append(img.size)\n",
    "        except:\n",
    "            if verbose:\n",
    "                print(f'Error reading {img_path}')\n",
    "    df_sizes = pd.DataFrame(sizes, columns=['width', 'height'])\n",
    "    return df_sizes.value_counts().reset_index(name='count')\n",
    "\n",
    "def img_size_count_plot(size_counts, figsize=(4, 3)):\n",
    "    plt.figure(figsize=figsize)\n",
    "    tick_label = [f\"{w}x{h}\" for w, h in size_counts[['width', 'height']].values]\n",
    "    plt.bar(size_counts.index, size_counts['count'], tick_label=tick_label, alpha=0.7, color='blue')\n",
    "    plt.xlabel('Image Size (width x height)')\n",
    "    plt.ylabel('Count')\n",
    "    plt.title('Number of Images by Size')\n",
    "    plt.xticks()\n",
    "    plt.tight_layout()\n",
    "    sns.despine()"
   ]
  },
  {
   "cell_type": "code",
   "execution_count": 8,
   "metadata": {},
   "outputs": [],
   "source": [
    "def resize_and_crop(image_path, output_path, target_size, size_filter=None):\n",
    "    \"\"\"\n",
    "    Resize and crop an image to fit the target size.\n",
    "\n",
    "    Parameters:\n",
    "    - image_path: str, path to the input image file.\n",
    "    - output_path: str, path to save the output image file.\n",
    "    - target_size: tuple, (width, height) of the target size.\n",
    "    - size_filter: list of tuples, [(width, height)] of input image sizes to resize.\n",
    "      If None, resize all images. (Optional, default=None)\n",
    "    \"\"\"\n",
    "    with Image.open(image_path) as img:\n",
    "        original_width, original_height = img.size\n",
    "        if size_filter is not None and (original_width, original_height) in size_filter:\n",
    "            return None\n",
    "\n",
    "        target_width, target_height = target_size\n",
    "\n",
    "        original_aspect = original_width / original_height\n",
    "        target_aspect = target_width / target_height\n",
    "\n",
    "        if original_aspect > target_aspect:\n",
    "            new_height = target_height\n",
    "            new_width = int(new_height * original_aspect)\n",
    "        else:\n",
    "            new_width = target_width\n",
    "            new_height = int(new_width / original_aspect)\n",
    "\n",
    "        left = (new_width - target_width) / 2\n",
    "        top = 0\n",
    "        right = left + target_width\n",
    "        bottom = top + target_height\n",
    "\n",
    "        img = img.resize((new_width, new_height), Image.LANCZOS)\n",
    "        img = img.crop((left, top, right, bottom))\n",
    "        img.save(output_path)"
   ]
  },
  {
   "cell_type": "code",
   "execution_count": 9,
   "metadata": {},
   "outputs": [],
   "source": [
    "def filter_dataframe(df, filter_dict):\n",
    "    mask = pd.Series([True] * len(df))\n",
    "    for col, values in filter_dict.items():\n",
    "        mask &= df[col].isin(values)\n",
    "    return df[mask]\n",
    "\n",
    "def remove_all_files(folder_path):\n",
    "    folder = Path(folder_path)\n",
    "    if folder.exists() and folder.is_dir():\n",
    "        for file in folder.iterdir():\n",
    "            if file.is_file():\n",
    "                file.unlink()\n",
    "            elif file.is_dir():\n",
    "                remove_all_files(file)\n",
    "\n",
    "def transform_images(img_list, files_folder, output_folder, transformation, params_dict, delete_files=False):\n",
    "    f = Path(output_folder)\n",
    "    if not f.exists():\n",
    "        f.mkdir(parents=True)\n",
    "    elif delete_files:\n",
    "        remove_all_files(f)\n",
    "\n",
    "    src_folder = Path(files_folder)\n",
    "    for img in tqdm(img_list, desc=f'Copying {f.name}'):\n",
    "        src = src_folder / img\n",
    "        dest = f / img\n",
    "        transformation(src, dest, **params_dict)"
   ]
  },
  {
   "cell_type": "markdown",
   "metadata": {},
   "source": [
    "## Search Parameters"
   ]
  },
  {
   "cell_type": "code",
   "execution_count": 10,
   "metadata": {},
   "outputs": [
    {
     "data": {
      "text/html": [
       "<div>\n",
       "<style scoped>\n",
       "    .dataframe tbody tr th:only-of-type {\n",
       "        vertical-align: middle;\n",
       "    }\n",
       "\n",
       "    .dataframe tbody tr th {\n",
       "        vertical-align: top;\n",
       "    }\n",
       "\n",
       "    .dataframe thead th {\n",
       "        text-align: right;\n",
       "    }\n",
       "</style>\n",
       "<table border=\"1\" class=\"dataframe\">\n",
       "  <thead>\n",
       "    <tr style=\"text-align: right;\">\n",
       "      <th></th>\n",
       "      <th>image_filename</th>\n",
       "      <th>lighting</th>\n",
       "      <th>city</th>\n",
       "    </tr>\n",
       "  </thead>\n",
       "  <tbody>\n",
       "    <tr>\n",
       "      <th>0</th>\n",
       "      <td>frame_20f328fa-2459-46d0-97a5-5ae2d6103cb0_000...</td>\n",
       "      <td>Twilight</td>\n",
       "      <td>NYC</td>\n",
       "    </tr>\n",
       "    <tr>\n",
       "      <th>1</th>\n",
       "      <td>frame_927bde20-f97f-48c2-af30-f9127b6b32ce_000...</td>\n",
       "      <td>Day</td>\n",
       "      <td>NYC</td>\n",
       "    </tr>\n",
       "    <tr>\n",
       "      <th>2</th>\n",
       "      <td>frame_67012509-f3bd-4175-a9d2-565a7b6bb3c7_000...</td>\n",
       "      <td>Day</td>\n",
       "      <td>NYC</td>\n",
       "    </tr>\n",
       "    <tr>\n",
       "      <th>3</th>\n",
       "      <td>frame_bd043377-6fb8-407a-95e5-7deb1fbab13a_000...</td>\n",
       "      <td>Day</td>\n",
       "      <td>NYC</td>\n",
       "    </tr>\n",
       "    <tr>\n",
       "      <th>4</th>\n",
       "      <td>frame_4da1583b-58d0-4893-8149-54541191031d_000...</td>\n",
       "      <td>Day</td>\n",
       "      <td>NYC</td>\n",
       "    </tr>\n",
       "  </tbody>\n",
       "</table>\n",
       "</div>"
      ],
      "text/plain": [
       "                                      image_filename  lighting city\n",
       "0  frame_20f328fa-2459-46d0-97a5-5ae2d6103cb0_000...  Twilight  NYC\n",
       "1  frame_927bde20-f97f-48c2-af30-f9127b6b32ce_000...       Day  NYC\n",
       "2  frame_67012509-f3bd-4175-a9d2-565a7b6bb3c7_000...       Day  NYC\n",
       "3  frame_bd043377-6fb8-407a-95e5-7deb1fbab13a_000...       Day  NYC\n",
       "4  frame_4da1583b-58d0-4893-8149-54541191031d_000...       Day  NYC"
      ]
     },
     "execution_count": 10,
     "metadata": {},
     "output_type": "execute_result"
    }
   ],
   "source": [
    "labels_file_name = '../../no_sync/nexet/nexet/train.csv'\n",
    "\n",
    "df_labels = pd.read_csv(labels_file_name)\n",
    "df_labels.head(5)"
   ]
  },
  {
   "cell_type": "code",
   "execution_count": 11,
   "metadata": {},
   "outputs": [
    {
     "name": "stdout",
     "output_type": "stream",
     "text": [
      "There are 50001 files in the folder.\n"
     ]
    }
   ],
   "source": [
    "img_folder = '../../no_sync/nexet/nexet/nexet_2017_1/'\n",
    "\n",
    "img_folder = Path(img_folder)\n",
    "file_count = len([f for f in img_folder.iterdir() if f.is_file()])\n",
    "print(f'There are {file_count} files in the folder.')"
   ]
  },
  {
   "cell_type": "code",
   "execution_count": 12,
   "metadata": {},
   "outputs": [
    {
     "name": "stderr",
     "output_type": "stream",
     "text": [
      "100%|██████████| 50000/50000 [00:09<00:00, 5140.24it/s]\n"
     ]
    },
    {
     "data": {
      "image/png": "[encoded data removed]",
      "text/plain": [
       "<Figure size 400x300 with 1 Axes>"
      ]
     },
     "metadata": {},
     "output_type": "display_data"
    }
   ],
   "source": [
    "df_count = img_size_count(img_folder, verbose=False)\n",
    "img_size_count_plot(df_count)"
   ]
  },
  {
   "cell_type": "code",
   "execution_count": 14,
   "metadata": {},
   "outputs": [
    {
     "name": "stderr",
     "output_type": "stream",
     "text": [
      "Copying input_A: 100%|██████████| 4931/4931 [00:52<00:00, 94.52it/s]\n",
      "Copying input_B: 100%|██████████| 4449/4449 [00:45<00:00, 98.36it/s] \n"
     ]
    }
   ],
   "source": [
    "def search_and_transform_images(search_params):\n",
    "    for f_name, filter_df in search_params['folders'].items():\n",
    "        img_list = filter_dataframe(search_params['df_labels'], filter_df)['image_filename']\n",
    "        transform_images(\n",
    "            img_list=img_list,\n",
    "            files_folder=search_params['src_folder'],\n",
    "            output_folder=Path(search_params['dest_folder']) / f_name,\n",
    "            transformation=search_params['transformation']['function'],\n",
    "            params_dict=search_params['transformation']['params'],\n",
    "            delete_files=False)\n",
    "\n",
    "search_params = {\n",
    "    'df_labels': df_labels,\n",
    "    'src_folder': img_folder,\n",
    "    'dest_folder': '../../data/external/nexet/',\n",
    "    'folders': {\n",
    "        'input_A': {'lighting':['Day'], 'city':['NYC']},\n",
    "        'input_B': {'lighting':['Night'], 'city':['NYC']},\n",
    "    },\n",
    "    'transformation':{\n",
    "        'function': resize_and_crop,\n",
    "        'params':{'target_size':(256,144), 'size_filter':(1280, 720)},\n",
    "    },\n",
    "}\n",
    "\n",
    "search_and_transform_images(search_params)"
   ]
  }
 ],
 "metadata": {
  "kernelspec": {
   "display_name": ".venv",
   "language": "python",
   "name": "python3"
  },
  "language_info": {
   "codemirror_mode": {
    "name": "ipython",
    "version": 3
   },
   "file_extension": ".py",
   "mimetype": "text/x-python",
   "name": "python",
   "nbconvert_exporter": "python",
   "pygments_lexer": "ipython3",
   "version": "3.10.12"
  }
 },
 "nbformat": 4,
 "nbformat_minor": 2
}
